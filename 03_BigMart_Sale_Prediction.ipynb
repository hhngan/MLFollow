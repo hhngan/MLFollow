{
  "nbformat": 4,
  "nbformat_minor": 0,
  "metadata": {
    "colab": {
      "name": "03.BigMart_Sale_Prediction.ipynb",
      "version": "0.3.2",
      "provenance": [],
      "include_colab_link": true
    },
    "kernelspec": {
      "name": "python3",
      "display_name": "Python 3"
    }
  },
  "cells": [
    {
      "cell_type": "markdown",
      "metadata": {
        "id": "view-in-github",
        "colab_type": "text"
      },
      "source": [
        "[View in Colaboratory](https://colab.research.google.com/github/hhngan/MLFollow/blob/master/03_BigMart_Sale_Prediction.ipynb)"
      ]
    },
    {
      "metadata": {
        "id": "wy-yXq4byjii",
        "colab_type": "code",
        "colab": {}
      },
      "cell_type": "code",
      "source": [
        "#CONSTANT\n",
        "TRAIN_PATH = \"https://github.com/hhngan/MLFollow/raw/master/data/BigMart_Train.csv\"\n",
        "TEST_PATH = \"https://github.com/hhngan/MLFollow/raw/master/data/BigMart_Test.csv\"\n",
        "\n",
        "# Load Library\n",
        "import pandas as pd\n",
        "import numpy as np\n",
        "\n",
        "#Load data\n",
        "train = pd.read_csv(TRAIN_PATH)\n",
        "test = pd.read_csv(TEST_PATH)"
      ],
      "execution_count": 0,
      "outputs": []
    },
    {
      "metadata": {
        "id": "ZAjDbUHCBWEX",
        "colab_type": "text"
      },
      "cell_type": "markdown",
      "source": [
        "# 2. Data Exploration"
      ]
    },
    {
      "metadata": {
        "id": "SvhNiaIw1Y9T",
        "colab_type": "code",
        "colab": {
          "base_uri": "https://localhost:8080/",
          "height": 34
        },
        "outputId": "e2d89efd-567c-4ed4-ee80-52b31617acd6"
      },
      "cell_type": "code",
      "source": [
        "#Combine 2 dataset\n",
        "\n",
        "train['source'] = 'train'\n",
        "test['source'] = 'test'\n",
        "\n",
        "data = pd.concat([train, test], ignore_index=True)\n",
        "print(train.shape, test.shape, data.shape)"
      ],
      "execution_count": 18,
      "outputs": [
        {
          "output_type": "stream",
          "text": [
            "(8523, 13) (5681, 12) (14204, 13)\n"
          ],
          "name": "stdout"
        }
      ]
    },
    {
      "metadata": {
        "id": "czedrYIp2nHA",
        "colab_type": "code",
        "colab": {
          "base_uri": "https://localhost:8080/",
          "height": 255
        },
        "outputId": "8065ef13-4f41-447c-a8f4-6c48657f31c8"
      },
      "cell_type": "code",
      "source": [
        "data.apply(lambda x: x.isnull().sum())"
      ],
      "execution_count": 19,
      "outputs": [
        {
          "output_type": "execute_result",
          "data": {
            "text/plain": [
              "Item_Fat_Content                0\n",
              "Item_Identifier                 0\n",
              "Item_MRP                        0\n",
              "Item_Outlet_Sales            5681\n",
              "Item_Type                       0\n",
              "Item_Visibility                 0\n",
              "Item_Weight                  2439\n",
              "Outlet_Establishment_Year       0\n",
              "Outlet_Identifier               0\n",
              "Outlet_Location_Type            0\n",
              "Outlet_Size                  4016\n",
              "Outlet_Type                     0\n",
              "source                          0\n",
              "dtype: int64"
            ]
          },
          "metadata": {
            "tags": []
          },
          "execution_count": 19
        }
      ]
    },
    {
      "metadata": {
        "id": "3KQJz7v04Dd4",
        "colab_type": "code",
        "colab": {
          "base_uri": "https://localhost:8080/",
          "height": 297
        },
        "outputId": "2342ff44-47ac-4c52-c46f-dacf37194e8e"
      },
      "cell_type": "code",
      "source": [
        "data.describe()"
      ],
      "execution_count": 20,
      "outputs": [
        {
          "output_type": "execute_result",
          "data": {
            "text/html": [
              "<div>\n",
              "<style scoped>\n",
              "    .dataframe tbody tr th:only-of-type {\n",
              "        vertical-align: middle;\n",
              "    }\n",
              "\n",
              "    .dataframe tbody tr th {\n",
              "        vertical-align: top;\n",
              "    }\n",
              "\n",
              "    .dataframe thead th {\n",
              "        text-align: right;\n",
              "    }\n",
              "</style>\n",
              "<table border=\"1\" class=\"dataframe\">\n",
              "  <thead>\n",
              "    <tr style=\"text-align: right;\">\n",
              "      <th></th>\n",
              "      <th>Item_MRP</th>\n",
              "      <th>Item_Outlet_Sales</th>\n",
              "      <th>Item_Visibility</th>\n",
              "      <th>Item_Weight</th>\n",
              "      <th>Outlet_Establishment_Year</th>\n",
              "    </tr>\n",
              "  </thead>\n",
              "  <tbody>\n",
              "    <tr>\n",
              "      <th>count</th>\n",
              "      <td>14204.000000</td>\n",
              "      <td>8523.000000</td>\n",
              "      <td>14204.000000</td>\n",
              "      <td>11765.000000</td>\n",
              "      <td>14204.000000</td>\n",
              "    </tr>\n",
              "    <tr>\n",
              "      <th>mean</th>\n",
              "      <td>141.004977</td>\n",
              "      <td>2181.288914</td>\n",
              "      <td>0.065953</td>\n",
              "      <td>12.792854</td>\n",
              "      <td>1997.830681</td>\n",
              "    </tr>\n",
              "    <tr>\n",
              "      <th>std</th>\n",
              "      <td>62.086938</td>\n",
              "      <td>1706.499616</td>\n",
              "      <td>0.051459</td>\n",
              "      <td>4.652502</td>\n",
              "      <td>8.371664</td>\n",
              "    </tr>\n",
              "    <tr>\n",
              "      <th>min</th>\n",
              "      <td>31.290000</td>\n",
              "      <td>33.290000</td>\n",
              "      <td>0.000000</td>\n",
              "      <td>4.555000</td>\n",
              "      <td>1985.000000</td>\n",
              "    </tr>\n",
              "    <tr>\n",
              "      <th>25%</th>\n",
              "      <td>94.012000</td>\n",
              "      <td>834.247400</td>\n",
              "      <td>0.027036</td>\n",
              "      <td>8.710000</td>\n",
              "      <td>1987.000000</td>\n",
              "    </tr>\n",
              "    <tr>\n",
              "      <th>50%</th>\n",
              "      <td>142.247000</td>\n",
              "      <td>1794.331000</td>\n",
              "      <td>0.054021</td>\n",
              "      <td>12.600000</td>\n",
              "      <td>1999.000000</td>\n",
              "    </tr>\n",
              "    <tr>\n",
              "      <th>75%</th>\n",
              "      <td>185.855600</td>\n",
              "      <td>3101.296400</td>\n",
              "      <td>0.094037</td>\n",
              "      <td>16.750000</td>\n",
              "      <td>2004.000000</td>\n",
              "    </tr>\n",
              "    <tr>\n",
              "      <th>max</th>\n",
              "      <td>266.888400</td>\n",
              "      <td>13086.964800</td>\n",
              "      <td>0.328391</td>\n",
              "      <td>21.350000</td>\n",
              "      <td>2009.000000</td>\n",
              "    </tr>\n",
              "  </tbody>\n",
              "</table>\n",
              "</div>"
            ],
            "text/plain": [
              "           Item_MRP  Item_Outlet_Sales  Item_Visibility   Item_Weight  \\\n",
              "count  14204.000000        8523.000000     14204.000000  11765.000000   \n",
              "mean     141.004977        2181.288914         0.065953     12.792854   \n",
              "std       62.086938        1706.499616         0.051459      4.652502   \n",
              "min       31.290000          33.290000         0.000000      4.555000   \n",
              "25%       94.012000         834.247400         0.027036      8.710000   \n",
              "50%      142.247000        1794.331000         0.054021     12.600000   \n",
              "75%      185.855600        3101.296400         0.094037     16.750000   \n",
              "max      266.888400       13086.964800         0.328391     21.350000   \n",
              "\n",
              "       Outlet_Establishment_Year  \n",
              "count               14204.000000  \n",
              "mean                 1997.830681  \n",
              "std                     8.371664  \n",
              "min                  1985.000000  \n",
              "25%                  1987.000000  \n",
              "50%                  1999.000000  \n",
              "75%                  2004.000000  \n",
              "max                  2009.000000  "
            ]
          },
          "metadata": {
            "tags": []
          },
          "execution_count": 20
        }
      ]
    },
    {
      "metadata": {
        "id": "ToDmEWV54prp",
        "colab_type": "text"
      },
      "cell_type": "markdown",
      "source": [
        "Some observations:\n",
        "\n",
        "1. **Item_Visibility** has a min value of zero. This makes no practical sense because when a product is being sold in a store, the visibility cannot be 0.\n",
        "2. **Outlet_Establishment_Years** vary from 1985 to 2009. The values might not be apt in this form. Rather, if we can convert them to how old the particular store is, it should have a better impact on sales.\n",
        "3. The lower ‘count’ of **Item_Weight** and **Item_Outlet_Sales** confirms the findings from the missing value check.\n",
        "\n",
        "Moving to nominal (categorical) variable, lets have a look at the number of unique values in each of them."
      ]
    },
    {
      "metadata": {
        "id": "VTgC0dUB46TP",
        "colab_type": "code",
        "colab": {
          "base_uri": "https://localhost:8080/",
          "height": 255
        },
        "outputId": "18f542a8-d0b3-41bb-e0fe-27f0897779b4"
      },
      "cell_type": "code",
      "source": [
        "data.apply(lambda x: len(x.unique()))"
      ],
      "execution_count": 21,
      "outputs": [
        {
          "output_type": "execute_result",
          "data": {
            "text/plain": [
              "Item_Fat_Content                 5\n",
              "Item_Identifier               1559\n",
              "Item_MRP                      8052\n",
              "Item_Outlet_Sales             3494\n",
              "Item_Type                       16\n",
              "Item_Visibility              13006\n",
              "Item_Weight                    416\n",
              "Outlet_Establishment_Year        9\n",
              "Outlet_Identifier               10\n",
              "Outlet_Location_Type             3\n",
              "Outlet_Size                      4\n",
              "Outlet_Type                      4\n",
              "source                           2\n",
              "dtype: int64"
            ]
          },
          "metadata": {
            "tags": []
          },
          "execution_count": 21
        }
      ]
    },
    {
      "metadata": {
        "id": "9NMFCvZ75GMQ",
        "colab_type": "text"
      },
      "cell_type": "markdown",
      "source": [
        "This tells us that there are **1559 products and 10 outlets/stores** (which was also mentioned in problem statement). Another thing that should catch attention is that **Item_Type has 16 unique values**. Let’s explore further using the frequency of different categories in each nominal variable. I’ll exclude the ID and source variables for obvious reasons."
      ]
    },
    {
      "metadata": {
        "id": "2uuiCllq5XXA",
        "colab_type": "code",
        "colab": {
          "base_uri": "https://localhost:8080/",
          "height": 799
        },
        "outputId": "d3aa6b67-08b8-4eae-fdbb-4b05d10cac45"
      },
      "cell_type": "code",
      "source": [
        "#Filter categorical variables\n",
        "categorical_columns = [x for x in data.dtypes.index if data.dtypes[x]=='object']\n",
        "#Exclude ID cols and source:\n",
        "categorical_columns = [x for x in categorical_columns if x not in ['Item_Identifier','Outlet_Identifier','source']]\n",
        "#Print frequency of categories\n",
        "for col in categorical_columns:\n",
        "    print('\\nFrequency of Categories for varible %s' %col)\n",
        "    print(data[col].value_counts())"
      ],
      "execution_count": 25,
      "outputs": [
        {
          "output_type": "stream",
          "text": [
            "\n",
            "Frequency of Categories for varible Item_Fat_Content\n",
            "Low Fat    8485\n",
            "Regular    4824\n",
            "LF          522\n",
            "reg         195\n",
            "low fat     178\n",
            "Name: Item_Fat_Content, dtype: int64\n",
            "\n",
            "Frequency of Categories for varible Item_Type\n",
            "Fruits and Vegetables    2013\n",
            "Snack Foods              1989\n",
            "Household                1548\n",
            "Frozen Foods             1426\n",
            "Dairy                    1136\n",
            "Baking Goods             1086\n",
            "Canned                   1084\n",
            "Health and Hygiene        858\n",
            "Meat                      736\n",
            "Soft Drinks               726\n",
            "Breads                    416\n",
            "Hard Drinks               362\n",
            "Others                    280\n",
            "Starchy Foods             269\n",
            "Breakfast                 186\n",
            "Seafood                    89\n",
            "Name: Item_Type, dtype: int64\n",
            "\n",
            "Frequency of Categories for varible Outlet_Location_Type\n",
            "Tier 3    5583\n",
            "Tier 2    4641\n",
            "Tier 1    3980\n",
            "Name: Outlet_Location_Type, dtype: int64\n",
            "\n",
            "Frequency of Categories for varible Outlet_Size\n",
            "Medium    4655\n",
            "Small     3980\n",
            "High      1553\n",
            "Name: Outlet_Size, dtype: int64\n",
            "\n",
            "Frequency of Categories for varible Outlet_Type\n",
            "Supermarket Type1    9294\n",
            "Grocery Store        1805\n",
            "Supermarket Type3    1559\n",
            "Supermarket Type2    1546\n",
            "Name: Outlet_Type, dtype: int64\n"
          ],
          "name": "stdout"
        }
      ]
    },
    {
      "metadata": {
        "id": "m1hnZ1tgBY-n",
        "colab_type": "text"
      },
      "cell_type": "markdown",
      "source": [
        "# 3. Data Cleaning\n",
        "\n",
        "**Imputing Missing Values**\n",
        "\n",
        "We found two variables with missing values – Item_Weight and Outlet_Size. Lets impute the former by the average weight of the particular item. This can be done as:"
      ]
    },
    {
      "metadata": {
        "id": "c1iCSF7MDbyL",
        "colab_type": "code",
        "colab": {
          "base_uri": "https://localhost:8080/",
          "height": 51
        },
        "outputId": "25fad631-4c8d-4f5d-cfdc-9ff86c10a2c7"
      },
      "cell_type": "code",
      "source": [
        "#Determine the average weight per item:\n",
        "item_avg_weight = data.pivot_table(values='Item_Weight', index='Item_Identifier')\n",
        "\n",
        "#Get a boolean variable specifying missing Item_Weight values\n",
        "miss_bool = data['Item_Weight'].isnull() \n",
        "\n",
        "#Impute data and check #missing values before and after imputation to confirm\n",
        "print('Orignal #missing: %d'% sum(miss_bool))\n",
        "data.loc[miss_bool,'Item_Weight'] = data.loc[miss_bool,'Item_Identifier'].apply(lambda x: item_avg_weight.loc[x].values[0])\n",
        "print('Final #missing: %d'% sum(data['Item_Weight'].isnull()))"
      ],
      "execution_count": 29,
      "outputs": [
        {
          "output_type": "stream",
          "text": [
            "Orignal #missing: 2439\n",
            "Final #missing: 0\n"
          ],
          "name": "stdout"
        }
      ]
    },
    {
      "metadata": {
        "id": "nOfY7VNtqoKJ",
        "colab_type": "code",
        "colab": {}
      },
      "cell_type": "code",
      "source": [
        "#Import mode function:\n",
        "from scipy.stats import mode\n",
        "\n",
        "#Determing the mode for each\n",
        "outlet_size_mode = data.pivot_table(values='Outlet_Size', columns='Outlet_Type',aggfunc=(lambda x: mode(x).mode[0]))\n",
        "print('Mode for each Outlet_Type:')\n",
        "print(outlet_size_mode)\n",
        "\n",
        "#Get a boolean variable specifying missing Item_Weight values\n",
        "miss_bool = data['Outlet_Size'].isnull() \n",
        "\n",
        "#Impute data and check #missing values before and after imputation to confirm\n",
        "print('\\nOrignal #missing: %d'% sum(miss_bool))\n",
        "data.loc[miss_bool,'Outlet_Size'] = data.loc[miss_bool,'Outlet_Type'].apply(lambda x: outlet_size_mode[x])\n",
        "print(sum(data['Outlet_Size'].isnull()))"
      ],
      "execution_count": 0,
      "outputs": []
    },
    {
      "metadata": {
        "id": "yC2kLajEylDU",
        "colab_type": "text"
      },
      "cell_type": "markdown",
      "source": [
        "# 4. Feature Engineering\n",
        "\n",
        "**Step 1: Consider combining Outlet_Type**"
      ]
    },
    {
      "metadata": {
        "id": "rHI63Ml2yupE",
        "colab_type": "code",
        "colab": {
          "base_uri": "https://localhost:8080/",
          "height": 204
        },
        "outputId": "fe309de2-4396-4479-8bbf-fef293664aef"
      },
      "cell_type": "code",
      "source": [
        "data.pivot_table(values='Item_Outlet_Sales',index='Outlet_Type')"
      ],
      "execution_count": 37,
      "outputs": [
        {
          "output_type": "execute_result",
          "data": {
            "text/html": [
              "<div>\n",
              "<style scoped>\n",
              "    .dataframe tbody tr th:only-of-type {\n",
              "        vertical-align: middle;\n",
              "    }\n",
              "\n",
              "    .dataframe tbody tr th {\n",
              "        vertical-align: top;\n",
              "    }\n",
              "\n",
              "    .dataframe thead th {\n",
              "        text-align: right;\n",
              "    }\n",
              "</style>\n",
              "<table border=\"1\" class=\"dataframe\">\n",
              "  <thead>\n",
              "    <tr style=\"text-align: right;\">\n",
              "      <th></th>\n",
              "      <th>Item_Outlet_Sales</th>\n",
              "    </tr>\n",
              "    <tr>\n",
              "      <th>Outlet_Type</th>\n",
              "      <th></th>\n",
              "    </tr>\n",
              "  </thead>\n",
              "  <tbody>\n",
              "    <tr>\n",
              "      <th>Grocery Store</th>\n",
              "      <td>339.828500</td>\n",
              "    </tr>\n",
              "    <tr>\n",
              "      <th>Supermarket Type1</th>\n",
              "      <td>2316.181148</td>\n",
              "    </tr>\n",
              "    <tr>\n",
              "      <th>Supermarket Type2</th>\n",
              "      <td>1995.498739</td>\n",
              "    </tr>\n",
              "    <tr>\n",
              "      <th>Supermarket Type3</th>\n",
              "      <td>3694.038558</td>\n",
              "    </tr>\n",
              "  </tbody>\n",
              "</table>\n",
              "</div>"
            ],
            "text/plain": [
              "                   Item_Outlet_Sales\n",
              "Outlet_Type                         \n",
              "Grocery Store             339.828500\n",
              "Supermarket Type1        2316.181148\n",
              "Supermarket Type2        1995.498739\n",
              "Supermarket Type3        3694.038558"
            ]
          },
          "metadata": {
            "tags": []
          },
          "execution_count": 37
        }
      ]
    },
    {
      "metadata": {
        "id": "OQERAvwAyxsM",
        "colab_type": "text"
      },
      "cell_type": "markdown",
      "source": [
        "**Step 2: Modify Item_Visibility**"
      ]
    },
    {
      "metadata": {
        "id": "vU925jjLy631",
        "colab_type": "code",
        "colab": {
          "base_uri": "https://localhost:8080/",
          "height": 51
        },
        "outputId": "a6ccc67c-a3c2-4bf0-9553-eafdf6e5075b"
      },
      "cell_type": "code",
      "source": [
        "#Determine average visibility of a product\n",
        "visibility_avg = data.pivot_table(values='Item_Visibility', index='Item_Identifier')\n",
        "\n",
        "#Impute 0 values with mean visibility of that product:\n",
        "miss_bool = (data['Item_Visibility'] == 0)\n",
        "\n",
        "print('Number of 0 values initially: %d'%sum(miss_bool))\n",
        "data.loc[miss_bool,'Item_Visibility'] = data.loc[miss_bool,'Item_Identifier'].apply(lambda x: visibility_avg.loc[x].values[0])\n",
        "print('Number of 0 values after modification: %d'%sum(data['Item_Visibility'] == 0))"
      ],
      "execution_count": 40,
      "outputs": [
        {
          "output_type": "stream",
          "text": [
            "Number of 0 values initially: 879\n",
            "Number of 0 values after modification: 0\n"
          ],
          "name": "stdout"
        }
      ]
    }
  ]
}