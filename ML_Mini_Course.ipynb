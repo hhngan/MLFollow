{
  "nbformat": 4,
  "nbformat_minor": 0,
  "metadata": {
    "colab": {
      "name": "ML_Mini_Course.ipynb",
      "version": "0.3.2",
      "provenance": [],
      "include_colab_link": true
    },
    "kernelspec": {
      "name": "python3",
      "display_name": "Python 3"
    }
  },
  "cells": [
    {
      "cell_type": "markdown",
      "metadata": {
        "id": "view-in-github",
        "colab_type": "text"
      },
      "source": [
        "[View in Colaboratory](https://colab.research.google.com/github/hhngan/MLFollow/blob/master/ML_Mini_Course.ipynb)"
      ]
    },
    {
      "metadata": {
        "id": "nxvYlZnP_JO7",
        "colab_type": "code",
        "colab": {}
      },
      "cell_type": "code",
      "source": [
        ""
      ],
      "execution_count": 0,
      "outputs": []
    },
    {
      "metadata": {
        "id": "GKVI-H6S_RcP",
        "colab_type": "text"
      },
      "cell_type": "markdown",
      "source": [
        "# Machine Learning Mastery With Python Mini-Course\n",
        "\n",
        "* Lesson 1: Download and Install Python and SciPy Ecosystem.\n",
        "* Lesson 2: Get Around In Python, NumPy, Matplotlib and Pandas.\n",
        "* Lesson 3: Load Data From CSV.\n",
        "* Lesson 4: Understand Data with Descriptive Statistics.\n",
        "* Lesson 5: Understand Data with Visualization.\n",
        "* Lesson 6: Prepare For Modeling by Pre-Processing Data.\n",
        "* Lesson 7: Algorithm Evaluation With Resampling Methods.\n",
        "* Lesson 8: Algorithm Evaluation Metrics.\n",
        "* Lesson 9: Spot-Check Algorithms.\n",
        "* Lesson 10: Model Comparison and Selection.\n",
        "* Lesson 11: Improve Accuracy with Algorithm Tuning.\n",
        "* Lesson 12: Improve Accuracy with Ensemble Predictions.\n",
        "* Lesson 13: Finalize And Save Your Model.\n",
        "* Lesson 14: Hello World End-to-End Project.\n"
      ]
    },
    {
      "metadata": {
        "id": "nmb5R_v_ALCU",
        "colab_type": "text"
      },
      "cell_type": "markdown",
      "source": [
        "# Lesson 1: Download and Install Python and SciPy Ecosystem"
      ]
    },
    {
      "metadata": {
        "id": "f3cx_Q6mAis5",
        "colab_type": "code",
        "colab": {
          "base_uri": "https://localhost:8080/",
          "height": 136
        },
        "outputId": "a9ae05c7-a314-483a-c59d-df9ee94de595"
      },
      "cell_type": "code",
      "source": [
        "import sys\n",
        "print('Python: {}'.format(sys.version))\n",
        "# scipy\n",
        "import scipy\n",
        "print('scipy: {}'.format(scipy.__version__))\n",
        "# numpy\n",
        "import numpy\n",
        "print('numpy: {}'.format(numpy.__version__))\n",
        "# matplotlib\n",
        "import matplotlib\n",
        "print('matplotlib: {}'.format(matplotlib.__version__))\n",
        "# pandas\n",
        "import pandas\n",
        "print('pandas: {}'.format(pandas.__version__))\n",
        "# scikit-learn\n",
        "import sklearn\n",
        "print('sklearn: {}'.format(sklearn.__version__))\n"
      ],
      "execution_count": 1,
      "outputs": [
        {
          "output_type": "stream",
          "text": [
            "Python: 3.6.3 (default, Oct  3 2017, 21:45:48) \n",
            "[GCC 7.2.0]\n",
            "scipy: 0.19.1\n",
            "numpy: 1.14.5\n",
            "matplotlib: 2.1.2\n",
            "pandas: 0.22.0\n",
            "sklearn: 0.19.2\n"
          ],
          "name": "stdout"
        }
      ]
    }
  ]
}