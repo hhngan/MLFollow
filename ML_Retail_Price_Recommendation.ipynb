{
  "nbformat": 4,
  "nbformat_minor": 0,
  "metadata": {
    "colab": {
      "name": "ML_Retail_Price_Recommendation.ipynb",
      "version": "0.3.2",
      "provenance": [],
      "include_colab_link": true
    },
    "kernelspec": {
      "name": "python3",
      "display_name": "Python 3"
    }
  },
  "cells": [
    {
      "cell_type": "markdown",
      "metadata": {
        "id": "view-in-github",
        "colab_type": "text"
      },
      "source": [
        "[View in Colaboratory](https://colab.research.google.com/github/hhngan/MLFollow/blob/master/ML_Retail_Price_Recommendation.ipynb)"
      ]
    },
    {
      "metadata": {
        "id": "GQF43rKSRcRC",
        "colab_type": "text"
      },
      "cell_type": "markdown",
      "source": [
        "*Mercari, Japan’s biggest community-powered shopping app, knows one problem deeply. They’d like to offer pricing suggestions to sellers, but this is tough because their sellers are enabled to put just about anything, or any bundle of things, on Mercari’s marketplace.*\n",
        "\n",
        "In this machine learning project, we will build a model that automatically suggests the right product prices. We are provided of the following information:\n",
        "\n",
        "* train_id — the id of the listing\n",
        "\n",
        "* name — the title of the listing\n",
        "\n",
        "* item_condition_id — the condition of the items provided by the sellers\n",
        "\n",
        "* category_name — category of the listing\n",
        "\n",
        "* brand_name — the name of the brand\n",
        "\n",
        "* price — the price that the item was sold for. This is target variable that we will predict\n",
        "\n",
        "* shipping — 1 if shipping fee is paid by seller and 0 by buyer\n",
        "\n",
        "* item_description — the full description of the item"
      ]
    },
    {
      "metadata": {
        "id": "ZHV97giiRxLf",
        "colab_type": "text"
      },
      "cell_type": "markdown",
      "source": [
        ""
      ]
    },
    {
      "metadata": {
        "id": "SqStOwVnaH_u",
        "colab_type": "code",
        "colab": {}
      },
      "cell_type": "code",
      "source": [
        "#!pip install -q lightgbm --> using in Google Colaboratory only."
      ],
      "execution_count": 0,
      "outputs": []
    },
    {
      "metadata": {
        "id": "Sv8DXAqpadU2",
        "colab_type": "text"
      },
      "cell_type": "markdown",
      "source": [
        "# Import library"
      ]
    },
    {
      "metadata": {
        "id": "gKaFiDvaVtoY",
        "colab_type": "code",
        "colab": {}
      },
      "cell_type": "code",
      "source": [
        "import gc\n",
        "import time\n",
        "import numpy as np\n",
        "import pandas as pd\n",
        "import matplotlib.pyplot as plt\n",
        "import seaborn as sns\n",
        "from scipy.sparse import csr_matrix, hstack\n",
        "from sklearn.feature_extraction.text import CountVectorizer, TfidfVectorizer\n",
        "from sklearn.preprocessing import LabelBinarizer\n",
        "from sklearn.model_selection import train_test_split, cross_val_score\n",
        "from sklearn.metrics import mean_squared_error\n",
        "import lightgbm as lgb\n",
        "\n",
        "#Import data from file\n",
        "FILE_PATHS = \"https://raw.githubusercontent.com/pjankiewicz/mercari-solution/master/tests/train_10k.tsv\"\n",
        "\n",
        "df = pd.read_csv(FILE_PATHS, sep = '\\t')"
      ],
      "execution_count": 0,
      "outputs": []
    },
    {
      "metadata": {
        "id": "Ah0C1sGGa2mm",
        "colab_type": "text"
      },
      "cell_type": "markdown",
      "source": [
        "> Randomly split the data into train and test sets. We are using training set only for EDA."
      ]
    },
    {
      "metadata": {
        "id": "kSp2hA1cai7l",
        "colab_type": "code",
        "colab": {
          "base_uri": "https://localhost:8080/",
          "height": 34
        },
        "outputId": "fc9cda13-3ee6-4de3-c22d-e088953b9a8c"
      },
      "cell_type": "code",
      "source": [
        "msk = np.random.rand(len(df)) < 0.8\n",
        "train = df[msk]\n",
        "test = df[~msk]\n",
        "train.shape, test.shape"
      ],
      "execution_count": 7,
      "outputs": [
        {
          "output_type": "execute_result",
          "data": {
            "text/plain": [
              "((7925, 8), (2075, 8))"
            ]
          },
          "metadata": {
            "tags": []
          },
          "execution_count": 7
        }
      ]
    },
    {
      "metadata": {
        "id": "AloZ8zEUbuYt",
        "colab_type": "code",
        "colab": {
          "base_uri": "https://localhost:8080/",
          "height": 445
        },
        "outputId": "9ef11225-14d2-42ce-a2b1-c728a0e79bfb"
      },
      "cell_type": "code",
      "source": [
        "df.head()"
      ],
      "execution_count": 8,
      "outputs": [
        {
          "output_type": "execute_result",
          "data": {
            "text/html": [
              "<div>\n",
              "<style scoped>\n",
              "    .dataframe tbody tr th:only-of-type {\n",
              "        vertical-align: middle;\n",
              "    }\n",
              "\n",
              "    .dataframe tbody tr th {\n",
              "        vertical-align: top;\n",
              "    }\n",
              "\n",
              "    .dataframe thead th {\n",
              "        text-align: right;\n",
              "    }\n",
              "</style>\n",
              "<table border=\"1\" class=\"dataframe\">\n",
              "  <thead>\n",
              "    <tr style=\"text-align: right;\">\n",
              "      <th></th>\n",
              "      <th>train_id</th>\n",
              "      <th>name</th>\n",
              "      <th>item_condition_id</th>\n",
              "      <th>category_name</th>\n",
              "      <th>brand_name</th>\n",
              "      <th>price</th>\n",
              "      <th>shipping</th>\n",
              "      <th>item_description</th>\n",
              "    </tr>\n",
              "  </thead>\n",
              "  <tbody>\n",
              "    <tr>\n",
              "      <th>0</th>\n",
              "      <td>0</td>\n",
              "      <td>MLB Cincinnati Reds T Shirt Size XL</td>\n",
              "      <td>3</td>\n",
              "      <td>Men/Tops/T-shirts</td>\n",
              "      <td>NaN</td>\n",
              "      <td>10.0</td>\n",
              "      <td>1</td>\n",
              "      <td>No description yet</td>\n",
              "    </tr>\n",
              "    <tr>\n",
              "      <th>1</th>\n",
              "      <td>1</td>\n",
              "      <td>Razer BlackWidow Chroma Keyboard</td>\n",
              "      <td>3</td>\n",
              "      <td>Electronics/Computers &amp; Tablets/Components &amp; P...</td>\n",
              "      <td>Razer</td>\n",
              "      <td>52.0</td>\n",
              "      <td>0</td>\n",
              "      <td>This keyboard is in great condition and works ...</td>\n",
              "    </tr>\n",
              "    <tr>\n",
              "      <th>2</th>\n",
              "      <td>2</td>\n",
              "      <td>AVA-VIV Blouse</td>\n",
              "      <td>1</td>\n",
              "      <td>Women/Tops &amp; Blouses/Blouse</td>\n",
              "      <td>Target</td>\n",
              "      <td>10.0</td>\n",
              "      <td>1</td>\n",
              "      <td>Adorable top with a hint of lace and a key hol...</td>\n",
              "    </tr>\n",
              "    <tr>\n",
              "      <th>3</th>\n",
              "      <td>3</td>\n",
              "      <td>Leather Horse Statues</td>\n",
              "      <td>1</td>\n",
              "      <td>Home/Home Décor/Home Décor Accents</td>\n",
              "      <td>NaN</td>\n",
              "      <td>35.0</td>\n",
              "      <td>1</td>\n",
              "      <td>New with tags. Leather horses. Retail for [rm]...</td>\n",
              "    </tr>\n",
              "    <tr>\n",
              "      <th>4</th>\n",
              "      <td>4</td>\n",
              "      <td>24K GOLD plated rose</td>\n",
              "      <td>1</td>\n",
              "      <td>Women/Jewelry/Necklaces</td>\n",
              "      <td>NaN</td>\n",
              "      <td>44.0</td>\n",
              "      <td>0</td>\n",
              "      <td>Complete with certificate of authenticity</td>\n",
              "    </tr>\n",
              "  </tbody>\n",
              "</table>\n",
              "</div>"
            ],
            "text/plain": [
              "   train_id                                 name  item_condition_id  \\\n",
              "0         0  MLB Cincinnati Reds T Shirt Size XL                  3   \n",
              "1         1     Razer BlackWidow Chroma Keyboard                  3   \n",
              "2         2                       AVA-VIV Blouse                  1   \n",
              "3         3                Leather Horse Statues                  1   \n",
              "4         4                 24K GOLD plated rose                  1   \n",
              "\n",
              "                                       category_name brand_name  price  \\\n",
              "0                                  Men/Tops/T-shirts        NaN   10.0   \n",
              "1  Electronics/Computers & Tablets/Components & P...      Razer   52.0   \n",
              "2                        Women/Tops & Blouses/Blouse     Target   10.0   \n",
              "3                 Home/Home Décor/Home Décor Accents        NaN   35.0   \n",
              "4                            Women/Jewelry/Necklaces        NaN   44.0   \n",
              "\n",
              "   shipping                                   item_description  \n",
              "0         1                                 No description yet  \n",
              "1         0  This keyboard is in great condition and works ...  \n",
              "2         1  Adorable top with a hint of lace and a key hol...  \n",
              "3         1  New with tags. Leather horses. Retail for [rm]...  \n",
              "4         0          Complete with certificate of authenticity  "
            ]
          },
          "metadata": {
            "tags": []
          },
          "execution_count": 8
        }
      ]
    },
    {
      "metadata": {
        "id": "wh4jTg1fdyBS",
        "colab_type": "code",
        "colab": {
          "base_uri": "https://localhost:8080/",
          "height": 238
        },
        "outputId": "004e00d2-3e60-49b2-8436-4c485a9dd4fc"
      },
      "cell_type": "code",
      "source": [
        "df.info()"
      ],
      "execution_count": 9,
      "outputs": [
        {
          "output_type": "stream",
          "text": [
            "<class 'pandas.core.frame.DataFrame'>\n",
            "RangeIndex: 10000 entries, 0 to 9999\n",
            "Data columns (total 8 columns):\n",
            "train_id             10000 non-null int64\n",
            "name                 10000 non-null object\n",
            "item_condition_id    10000 non-null int64\n",
            "category_name        9953 non-null object\n",
            "brand_name           5739 non-null object\n",
            "price                10000 non-null float64\n",
            "shipping             10000 non-null int64\n",
            "item_description     10000 non-null object\n",
            "dtypes: float64(1), int64(3), object(4)\n",
            "memory usage: 625.1+ KB\n"
          ],
          "name": "stdout"
        }
      ]
    },
    {
      "metadata": {
        "id": "9IVROmOQd9ll",
        "colab_type": "text"
      },
      "cell_type": "markdown",
      "source": [
        "**Price**"
      ]
    },
    {
      "metadata": {
        "id": "wq_7F6xfeCNL",
        "colab_type": "code",
        "colab": {
          "base_uri": "https://localhost:8080/",
          "height": 170
        },
        "outputId": "38c3aea6-2a18-438e-d3b4-dea2c62ed0b2"
      },
      "cell_type": "code",
      "source": [
        "train.price.describe()"
      ],
      "execution_count": 10,
      "outputs": [
        {
          "output_type": "execute_result",
          "data": {
            "text/plain": [
              "count    7925.000000\n",
              "mean       26.344038\n",
              "std        36.158886\n",
              "min         0.000000\n",
              "25%        10.000000\n",
              "50%        16.000000\n",
              "75%        29.000000\n",
              "max       749.000000\n",
              "Name: price, dtype: float64"
            ]
          },
          "metadata": {
            "tags": []
          },
          "execution_count": 10
        }
      ]
    },
    {
      "metadata": {
        "id": "7b2FlnCjfTwT",
        "colab_type": "text"
      },
      "cell_type": "markdown",
      "source": [
        ">The price of items are left skewed, vast majority of the items priced at 10–20. However, the most expensive item priced at 2009. So we will make log-transformation on the price."
      ]
    },
    {
      "metadata": {
        "id": "qkBep9umfWes",
        "colab_type": "code",
        "colab": {
          "base_uri": "https://localhost:8080/",
          "height": 422
        },
        "outputId": "467abebd-7596-4839-cc4f-35afbf773cfb"
      },
      "cell_type": "code",
      "source": [
        "plt.subplot(1, 2, 1)\n",
        "(train['price']).plot.hist(bins=50, figsize=(12, 6), edgecolor = 'white', range = [0, 250])\n",
        "plt.xlabel('price', fontsize=12)\n",
        "plt.title('Price Distribution', fontsize=12)\n",
        "plt.subplot(1, 2, 2)\n",
        "np.log(train['price']+1).plot.hist(bins=50, figsize=(12,6), edgecolor='white')\n",
        "plt.xlabel('log(price+1)', fontsize=12)\n",
        "plt.title('Price Distribution', fontsize=12)"
      ],
      "execution_count": 11,
      "outputs": [
        {
          "output_type": "execute_result",
          "data": {
            "text/plain": [
              "Text(0.5,1,'Price Distribution')"
            ]
          },
          "metadata": {
            "tags": []
          },
          "execution_count": 11
        },
        {
          "output_type": "display_data",
          "data": {
            "image/png": "[encoded data removed]",
            "text/plain": [
              "<matplotlib.figure.Figure at 0x7f3c26debba8>"
            ]
          },
          "metadata": {
            "tags": []
          }
        }
      ]
    },
    {
      "metadata": {
        "id": "Qd9JJF_nfsAj",
        "colab_type": "text"
      },
      "cell_type": "markdown",
      "source": [
        "**Shipping**\n",
        "\n",
        "Over 55% of items shipping fee were paid by the buyers."
      ]
    },
    {
      "metadata": {
        "id": "Y0XBo3MDfyxF",
        "colab_type": "code",
        "colab": {
          "base_uri": "https://localhost:8080/",
          "height": 68
        },
        "outputId": "5dcbcee4-36ac-470a-bfc6-03be233b0c36"
      },
      "cell_type": "code",
      "source": [
        "train['shipping'].value_counts() / len(train)"
      ],
      "execution_count": 12,
      "outputs": [
        {
          "output_type": "execute_result",
          "data": {
            "text/plain": [
              "0    0.547508\n",
              "1    0.452492\n",
              "Name: shipping, dtype: float64"
            ]
          },
          "metadata": {
            "tags": []
          },
          "execution_count": 12
        }
      ]
    },
    {
      "metadata": {
        "id": "gsSDT5pIgG-c",
        "colab_type": "code",
        "colab": {
          "base_uri": "https://localhost:8080/",
          "height": 538
        },
        "outputId": "a08d10ab-2704-423b-9855-b6592b9cdeef"
      },
      "cell_type": "code",
      "source": [
        "#How shipping related to the price?\n",
        "\n",
        "shipping_fee_by_buyer = train.loc[df['shipping'] == 0, 'price']\n",
        "shipping_fee_by_seller = train.loc[df['shipping'] == 1, 'price']\n",
        "fig, ax = plt.subplots(figsize=(18,8))\n",
        "ax.hist(shipping_fee_by_seller, color='#8CB4E1', alpha=1.0, bins=50, range = [0, 100],\n",
        "       label='Price when Seller pays Shipping')\n",
        "ax.hist(shipping_fee_by_buyer, color='#007D00', alpha=0.7, bins=50, range = [0, 100],\n",
        "       label='Price when Buyer pays Shipping')\n",
        "plt.xlabel('price', fontsize=12)\n",
        "plt.ylabel('frequency', fontsize=12)\n",
        "plt.title('Price Distribution by Shipping Type', fontsize=15)\n",
        "plt.tick_params(labelsize=12)\n",
        "plt.legend()\n",
        "plt.show()"
      ],
      "execution_count": 13,
      "outputs": [
        {
          "output_type": "display_data",
          "data": {
            "image/png": "[encoded data removed]",
            "text/plain": [
              "<matplotlib.figure.Figure at 0x7f3c26de5f60>"
            ]
          },
          "metadata": {
            "tags": []
          }
        }
      ]
    },
    {
      "metadata": {
        "id": "kPT2v95mgnZ4",
        "colab_type": "code",
        "colab": {
          "base_uri": "https://localhost:8080/",
          "height": 51
        },
        "outputId": "58a2694a-7b79-4b73-c785-a88c08aab3a5"
      },
      "cell_type": "code",
      "source": [
        "#Show avg by each term\n",
        "\n",
        "print('The average price is {}'.format(round(shipping_fee_by_seller.mean(), 2)), 'if seller pays shipping');\n",
        "print('The average price is {}'.format(round(shipping_fee_by_buyer.mean(), 2)), 'if buyer pays shipping')"
      ],
      "execution_count": 14,
      "outputs": [
        {
          "output_type": "stream",
          "text": [
            "The average price is 22.35 if seller pays shipping\n",
            "The average price is 29.64 if buyer pays shipping\n"
          ],
          "name": "stdout"
        }
      ]
    },
    {
      "metadata": {
        "id": "zwcW19epg2m4",
        "colab_type": "code",
        "colab": {
          "base_uri": "https://localhost:8080/",
          "height": 538
        },
        "outputId": "bdc29f37-41a8-40d7-b3cc-e1247503d4c5"
      },
      "cell_type": "code",
      "source": [
        "#We compare again after log-transformation on the price.\n",
        "\n",
        "fig, ax = plt.subplots(figsize=(18,8))\n",
        "ax.hist(np.log(shipping_fee_by_seller+1), color='#8CB4E1', alpha=1.0, bins=50,\n",
        "       label='Price when Seller pays Shipping')\n",
        "ax.hist(np.log(shipping_fee_by_buyer+1), color='#007D00', alpha=0.7, bins=50,\n",
        "       label='Price when Buyer pays Shipping')\n",
        "plt.xlabel('log(price+1)', fontsize=12)\n",
        "plt.ylabel('frequency', fontsize=12)\n",
        "plt.title('Price Distribution by Shipping Type', fontsize=15)\n",
        "plt.tick_params(labelsize=12)\n",
        "plt.legend()\n",
        "plt.show()\n",
        "\n",
        "#Obviously:--> It is obvious that the average price is higher when buyer pays shipping."
      ],
      "execution_count": 15,
      "outputs": [
        {
          "output_type": "display_data",
          "data": {
            "image/png": "[encoded data removed]",
            "text/plain": [
              "<matplotlib.figure.Figure at 0x7f3c24841cf8>"
            ]
          },
          "metadata": {
            "tags": []
          }
        }
      ]
    },
    {
      "metadata": {
        "id": "qJO2FiSPhBEp",
        "colab_type": "text"
      },
      "cell_type": "markdown",
      "source": [
        "**Category Names**"
      ]
    },
    {
      "metadata": {
        "id": "D8Nb_fiAhQKb",
        "colab_type": "code",
        "colab": {
          "base_uri": "https://localhost:8080/",
          "height": 34
        },
        "outputId": "df9adc26-a5c3-4807-9f33-491c60967f8a"
      },
      "cell_type": "code",
      "source": [
        "print('There are', train['category_name'].nunique(), 'unique values in category name column')"
      ],
      "execution_count": 16,
      "outputs": [
        {
          "output_type": "stream",
          "text": [
            "There are 586 unique values in category name column\n"
          ],
          "name": "stdout"
        }
      ]
    },
    {
      "metadata": {
        "id": "IgjqNkJKhXhR",
        "colab_type": "code",
        "colab": {
          "base_uri": "https://localhost:8080/",
          "height": 204
        },
        "outputId": "282c7264-6616-49d2-95cc-e562b658abdb"
      },
      "cell_type": "code",
      "source": [
        "# Top 10 most common category names:\n",
        "train['category_name'].value_counts()[:10]"
      ],
      "execution_count": 17,
      "outputs": [
        {
          "output_type": "execute_result",
          "data": {
            "text/plain": [
              "Women/Athletic Apparel/Pants, Tights, Leggings                 315\n",
              "Women/Tops & Blouses/T-Shirts                                  237\n",
              "Beauty/Makeup/Face                                             209\n",
              "Beauty/Makeup/Lips                                             179\n",
              "Beauty/Makeup/Eyes                                             148\n",
              "Electronics/Cell Phones & Accessories/Cases, Covers & Skins    135\n",
              "Electronics/Video Games & Consoles/Games                       124\n",
              "Women/Tops & Blouses/Blouse                                    116\n",
              "Beauty/Fragrance/Women                                         115\n",
              "Women/Tops & Blouses/Tank, Cami                                112\n",
              "Name: category_name, dtype: int64"
            ]
          },
          "metadata": {
            "tags": []
          },
          "execution_count": 17
        }
      ]
    },
    {
      "metadata": {
        "id": "shFu1g5xhm6j",
        "colab_type": "text"
      },
      "cell_type": "markdown",
      "source": [
        "**Item condition vs. Price**"
      ]
    },
    {
      "metadata": {
        "id": "DOq0EmNhhrC8",
        "colab_type": "code",
        "colab": {
          "base_uri": "https://localhost:8080/",
          "height": 432
        },
        "outputId": "fc105cb1-93f5-4749-d11f-cdf5dc2d5574"
      },
      "cell_type": "code",
      "source": [
        "#using seaborn lib\n",
        "sns.boxplot(x = 'item_condition_id', y = np.log(train['price']+1), data = train, palette = sns.color_palette('RdBu',5))\n",
        "\n",
        "## Obviously:--> There seems to be various on the average price between each item condition id."
      ],
      "execution_count": 18,
      "outputs": [
        {
          "output_type": "stream",
          "text": [
            "/usr/local/lib/python3.6/dist-packages/seaborn/categorical.py:454: FutureWarning: remove_na is deprecated and is a private function. Do not use.\n",
            "  box_data = remove_na(group_data)\n"
          ],
          "name": "stderr"
        },
        {
          "output_type": "execute_result",
          "data": {
            "text/plain": [
              "<matplotlib.axes._subplots.AxesSubplot at 0x7f3c24718668>"
            ]
          },
          "metadata": {
            "tags": []
          },
          "execution_count": 18
        },
        {
          "output_type": "display_data",
          "data": {
            "image/png": "[encoded data removed]",
            "text/plain": [
              "<matplotlib.figure.Figure at 0x7f3c2487fef0>"
            ]
          },
          "metadata": {
            "tags": []
          }
        }
      ]
    },
    {
      "metadata": {
        "id": "5I1OR-tIiKtN",
        "colab_type": "text"
      },
      "cell_type": "markdown",
      "source": [
        "# Build Model\n",
        "\n",
        "\n",
        "After above exploratory data analysis, I decide to use all the features to build our model.\n",
        "\n",
        "\n",
        "**LightGBM**\n",
        "\n",
        "Under the umbrella of the [DMTK](https://www.microsoft.com/en-us/research/project/dmtk/) project of Microsoft, [LightGBM](https://github.com/Microsoft/LightGBM) is a gradient boosting framework that uses tree based learning algorithms. It is designed to be distributed and efficient with the following advantages:\n",
        "\n",
        "* Faster training speed and higher efficiency\n",
        "* Lower memory usage\n",
        "* Better accuracy\n",
        "* Parallel and GPU learning supported\n",
        "* Capable of handling large-scale data\n",
        "\n",
        "\n",
        ">Therefore, we are going to give it a try."
      ]
    },
    {
      "metadata": {
        "id": "A25diPami6PV",
        "colab_type": "code",
        "colab": {}
      },
      "cell_type": "code",
      "source": [
        "# General settings\n",
        "\n",
        "NUM_BRANDS = 4000\n",
        "NUM_CATEGORIES = 1000\n",
        "NAME_MIN_DF = 10\n",
        "MAX_FEATURES_ITEM_DESCRIPTION = 50000"
      ],
      "execution_count": 0,
      "outputs": []
    },
    {
      "metadata": {
        "id": "_sjAsSIijCeU",
        "colab_type": "code",
        "colab": {
          "base_uri": "https://localhost:8080/",
          "height": 34
        },
        "outputId": "45a7c739-a5af-4a1d-d8cd-d48a9491eec4"
      },
      "cell_type": "code",
      "source": [
        "# There are missing values in the columns that we have to fix:\n",
        "\n",
        "print('There are %d items that do not have a category name.' %train['category_name'].isnull().sum())"
      ],
      "execution_count": 20,
      "outputs": [
        {
          "output_type": "stream",
          "text": [
            "There are 35 items that do not have a category name.\n"
          ],
          "name": "stdout"
        }
      ]
    },
    {
      "metadata": {
        "id": "IjPu5yCjjcwL",
        "colab_type": "code",
        "colab": {
          "base_uri": "https://localhost:8080/",
          "height": 34
        },
        "outputId": "572f7246-6132-45b6-99ad-6f2aa5cc53e6"
      },
      "cell_type": "code",
      "source": [
        "print('There are %d items that do not have a description.' %train['item_description'].isnull().sum())"
      ],
      "execution_count": 21,
      "outputs": [
        {
          "output_type": "stream",
          "text": [
            "There are 0 items that do not have a description.\n"
          ],
          "name": "stdout"
        }
      ]
    },
    {
      "metadata": {
        "id": "6DKmODI4jvQc",
        "colab_type": "text"
      },
      "cell_type": "markdown",
      "source": [
        "**Helper function for LightGBM**"
      ]
    },
    {
      "metadata": {
        "id": "uvT5hkKSkYnZ",
        "colab_type": "code",
        "colab": {}
      },
      "cell_type": "code",
      "source": [
        "def handle_missing_inplace(dataset): \n",
        "    dataset['category_name'].fillna(value='missing', inplace=True) \n",
        "    dataset['brand_name'].fillna(value='missing', inplace=True) \n",
        "    dataset['item_description'].replace('No description yet,''missing', inplace=True) \n",
        "    dataset['item_description'].fillna(value='missing', inplace=True)\n",
        "def cutting(dataset):\n",
        "    pop_brand = dataset['brand_name'].value_counts().loc[lambda x: x.index != 'missing'].index[:NUM_BRANDS]\n",
        "    dataset.loc[~dataset['brand_name'].isin(pop_brand), 'brand_name'] = 'missing'\n",
        "    pop_category = dataset['category_name'].value_counts().loc[lambda x: x.index != 'missing'].index[:NUM_CATEGORIES]\n",
        "def to_categorical(dataset):\n",
        "    dataset['category_name'] = dataset['category_name'].astype('category')\n",
        "    dataset['brand_name'] = dataset['brand_name'].astype('category')\n",
        "    dataset['item_condition_id'] = dataset['item_condition_id'].astype('category')"
      ],
      "execution_count": 0,
      "outputs": []
    },
    {
      "metadata": {
        "id": "i52_mEpRkwIr",
        "colab_type": "code",
        "colab": {}
      },
      "cell_type": "code",
      "source": [
        "# Drop rows where price = 0\n",
        "\n",
        "df = pd.read_csv(FILE_PATHS, sep = '\\t')\n",
        "msk = np.random.rand(len(df)) < 0.8\n",
        "train = df[msk]\n",
        "test = df[~msk]\n",
        "test_new = test.drop('price', axis=1)\n",
        "y_test = np.log1p(test[\"price\"])\n",
        "train = train[train.price != 0].reset_index(drop=True)"
      ],
      "execution_count": 0,
      "outputs": []
    },
    {
      "metadata": {
        "id": "Dmjy3h3jlAzT",
        "colab_type": "code",
        "colab": {}
      },
      "cell_type": "code",
      "source": [
        "# Merge train and new test data.\n",
        "\n",
        "nrow_train = train.shape[0]\n",
        "y = np.log1p(train[\"price\"])\n",
        "merge: pd.DataFrame = pd.concat([train, test_new])"
      ],
      "execution_count": 0,
      "outputs": []
    },
    {
      "metadata": {
        "id": "nWvvUInulLUH",
        "colab_type": "text"
      },
      "cell_type": "markdown",
      "source": [
        "# Training Preparation"
      ]
    },
    {
      "metadata": {
        "id": "TqEy3zJelM_z",
        "colab_type": "code",
        "colab": {}
      },
      "cell_type": "code",
      "source": [
        "handle_missing_inplace(merge)\n",
        "cutting(merge)\n",
        "to_categorical(merge)"
      ],
      "execution_count": 0,
      "outputs": []
    },
    {
      "metadata": {
        "id": "5Iap6DCNlRX7",
        "colab_type": "code",
        "colab": {}
      },
      "cell_type": "code",
      "source": [
        "# Count vectorize name and category name columns.\n",
        "\n",
        "cv = CountVectorizer(min_df=NAME_MIN_DF)\n",
        "X_name = cv.fit_transform(merge['name'])\n",
        "cv = CountVectorizer()\n",
        "X_category = cv.fit_transform(merge['category_name'])"
      ],
      "execution_count": 0,
      "outputs": []
    },
    {
      "metadata": {
        "id": "FuRt4nMTlbEP",
        "colab_type": "code",
        "colab": {}
      },
      "cell_type": "code",
      "source": [
        "# TF-IDF Vectorize item_description column.\n",
        "\n",
        "tv = TfidfVectorizer(max_features=MAX_FEATURES_ITEM_DESCRIPTION, ngram_range=(1, 3), stop_words='english')\n",
        "X_description = tv.fit_transform(merge['item_description'])"
      ],
      "execution_count": 0,
      "outputs": []
    },
    {
      "metadata": {
        "id": "_SD6vn3cliuk",
        "colab_type": "code",
        "colab": {}
      },
      "cell_type": "code",
      "source": [
        "# Label binarize brand_name column.\n",
        "\n",
        "lb = LabelBinarizer(sparse_output=True)\n",
        "X_brand = lb.fit_transform(merge['brand_name'])"
      ],
      "execution_count": 0,
      "outputs": []
    },
    {
      "metadata": {
        "id": "N-seqNdLlrMq",
        "colab_type": "code",
        "colab": {}
      },
      "cell_type": "code",
      "source": [
        "# Create dummy variables for item_condition_id and shipping columns.\n",
        "\n",
        "X_dummies = csr_matrix(pd.get_dummies(merge[['item_condition_id', 'shipping']], sparse=True).values)"
      ],
      "execution_count": 0,
      "outputs": []
    },
    {
      "metadata": {
        "id": "9vquWTcVly8_",
        "colab_type": "code",
        "colab": {}
      },
      "cell_type": "code",
      "source": [
        "# Create sparse merge.\n",
        "\n",
        "sparse_merge = hstack((X_dummies, X_description, X_brand, X_category, X_name)).tocsr()"
      ],
      "execution_count": 0,
      "outputs": []
    },
    {
      "metadata": {
        "id": "6ZnCforHl2_t",
        "colab_type": "code",
        "colab": {}
      },
      "cell_type": "code",
      "source": [
        "# Remove features with document frequency <=1.\n",
        "\n",
        "mask = np.array(np.clip(sparse_merge.getnnz(axis=0) - 1, 0, 1), dtype=bool)\n",
        "sparse_merge = sparse_merge[:, mask]"
      ],
      "execution_count": 0,
      "outputs": []
    },
    {
      "metadata": {
        "id": "iBcQiVz8mAK-",
        "colab_type": "code",
        "colab": {}
      },
      "cell_type": "code",
      "source": [
        "# Separate train and test data from sparse merge.\n",
        "\n",
        "X = sparse_merge[:nrow_train]\n",
        "X_test = sparse_merge[nrow_train:]"
      ],
      "execution_count": 0,
      "outputs": []
    },
    {
      "metadata": {
        "id": "_EmcBr2gmFwr",
        "colab_type": "code",
        "colab": {}
      },
      "cell_type": "code",
      "source": [
        "# Create dataset for lightgbm.\n",
        "\n",
        "train_X = lgb.Dataset(X, label=y)"
      ],
      "execution_count": 0,
      "outputs": []
    },
    {
      "metadata": {
        "id": "hkLdCey-mKsO",
        "colab_type": "code",
        "colab": {}
      },
      "cell_type": "code",
      "source": [
        "# Specify our parameters as a dict.\n",
        "\n",
        "params = {\n",
        "        'learning_rate': 0.75,\n",
        "        'application': 'regression',\n",
        "        'max_depth': 3,\n",
        "        'num_leaves': 100,\n",
        "        'verbosity': -1,\n",
        "        'metric': 'RMSE',\n",
        "    }"
      ],
      "execution_count": 0,
      "outputs": []
    },
    {
      "metadata": {
        "id": "jNVHmhAvmTBz",
        "colab_type": "text"
      },
      "cell_type": "markdown",
      "source": [
        "# Training Start\n",
        "\n",
        "* Use ‘regression’ as application as we are dealing with a regression problem.\n",
        "* Use ‘RMSE’ as metric because this is a regression problem.\n",
        "* “num_leaves”=100 as our data is relative big.\n",
        "* Use “max_depth” to avoid overfitting.\n",
        "* Use “verbosity” to control the level of LightGBM’s verbosity (<0: Fatal).\n",
        "* “learning_rate” determines the impact of each tree on the final outcome.\n",
        "\n",
        "Training a model requires a parameter list and data set. And training will take a while."
      ]
    },
    {
      "metadata": {
        "id": "-rjDwuEPmot0",
        "colab_type": "code",
        "colab": {}
      },
      "cell_type": "code",
      "source": [
        "gbm = lgb.train(params, train_set=train_X, num_boost_round=3200, verbose_eval=100)"
      ],
      "execution_count": 0,
      "outputs": []
    },
    {
      "metadata": {
        "id": "WxmXv6U4mx9L",
        "colab_type": "text"
      },
      "cell_type": "markdown",
      "source": [
        "**Predict**"
      ]
    },
    {
      "metadata": {
        "id": "b_avNgtUm0ca",
        "colab_type": "code",
        "colab": {}
      },
      "cell_type": "code",
      "source": [
        "y_pred = gbm.predict(X_test, num_iteration=gbm.best_iteration)"
      ],
      "execution_count": 0,
      "outputs": []
    },
    {
      "metadata": {
        "id": "5A9YsOl5m4yp",
        "colab_type": "text"
      },
      "cell_type": "markdown",
      "source": [
        "**Evaluation**"
      ]
    },
    {
      "metadata": {
        "id": "SMYKpTLTm9Rz",
        "colab_type": "code",
        "colab": {
          "base_uri": "https://localhost:8080/",
          "height": 34
        },
        "outputId": "73f6f287-bb10-4b70-b25f-58394ebe2d00"
      },
      "cell_type": "code",
      "source": [
        "from sklearn.metrics import mean_squared_error\n",
        "print('The rmse of prediction is:', mean_squared_error(y_test, y_pred) ** 0.5)"
      ],
      "execution_count": 37,
      "outputs": [
        {
          "output_type": "stream",
          "text": [
            "The rmse of prediction is: 0.7064395202141318\n"
          ],
          "name": "stdout"
        }
      ]
    }
  ]
}